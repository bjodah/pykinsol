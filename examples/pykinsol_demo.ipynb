{
 "cells": [
  {
   "cell_type": "code",
   "execution_count": null,
   "metadata": {
    "collapsed": true
   },
   "outputs": [],
   "source": [
    "from pykinsol import solve"
   ]
  },
  {
   "cell_type": "code",
   "execution_count": null,
   "metadata": {
    "collapsed": true
   },
   "outputs": [],
   "source": [
    "def f(x, fout):\n",
    "    fout[0] = x[1] - 1 + 1/x[0]\n",
    "    fout[1] = x[1] + 1/(x[0] + 1)\n",
    "\n",
    "def j(x, Jout, fx):\n",
    "    Jout[0, 0] = -1/(x[0]**2)\n",
    "    Jout[0, 1] = 1\n",
    "    Jout[1, 0] = -1/(x[0] + 1)**2\n",
    "    Jout[1, 1] = 1"
   ]
  },
  {
   "cell_type": "code",
   "execution_count": null,
   "metadata": {
    "collapsed": false
   },
   "outputs": [],
   "source": [
    "solve(f, j, [.5, -.5])"
   ]
  }
 ],
 "metadata": {
  "kernelspec": {
   "display_name": "Python 3",
   "language": "python",
   "name": "python3"
  },
  "language_info": {
   "codemirror_mode": {
    "name": "ipython",
    "version": 2
   },
   "file_extension": ".py",
   "mimetype": "text/x-python",
   "name": "python",
   "nbconvert_exporter": "python",
   "pygments_lexer": "ipython3",
   "version": "3.7.1"
  }
 },
 "nbformat": 4,
 "nbformat_minor": 0
}
